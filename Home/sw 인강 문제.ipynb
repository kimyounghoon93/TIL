{
 "cells": [
  {
   "cell_type": "code",
   "execution_count": null,
   "metadata": {},
   "outputs": [],
   "source": []
  },
  {
   "cell_type": "code",
   "execution_count": null,
   "metadata": {},
   "outputs": [],
   "source": [
    "def pattern(x):\n",
    "    result=0\n",
    "    r = [[0]*i for i in range(1,5)]\n",
    "    for i,a in enumerate(r):\n",
    "        for j,b in enumerate(r[i]):\n",
    "            r[i][j]= x*(10**(j))\n",
    "            \n",
    "    for k in r:\n",
    "        result+=sum(k)\n",
    "\n",
    "    return result\n",
    "\n",
    "x = int(input())\n",
    "print(pattern(x))\n",
    "\n"
   ]
  },
  {
   "cell_type": "code",
   "execution_count": null,
   "metadata": {},
   "outputs": [],
   "source": [
    "print(pattern(9))"
   ]
  },
  {
   "cell_type": "code",
   "execution_count": null,
   "metadata": {},
   "outputs": [],
   "source": [
    "x값을\n",
    "x + xx + xxx + xxxx\n",
    "되도록 만들기\n",
    "\n",
    "1. input()\n",
    "\n",
    "2. "
   ]
  },
  {
   "cell_type": "code",
   "execution_count": null,
   "metadata": {},
   "outputs": [],
   "source": [
    "# def myinch():\n",
    "#     inch = 2.54 #centimeters\n",
    "#     centimeters = int(input(\"Enter a number of centimeters\"))\n",
    "# print \"Entered number of %s centimeters is equal to %s inches\" % (centimeters , centimeters / inch)\n",
    "#'인치(inch)를 센티미터(cm)으로 변환하는 프로그램을 작성하십시오.'\n",
    "#'이 때 1 인치는 2.54 센티미터입니다.'\n",
    "x = int(input())\n",
    "mcm = x*2.54\n",
    "    \n",
    "print(f'{x} inch => {mcm} cm')"
   ]
  },
  {
   "cell_type": "code",
   "execution_count": null,
   "metadata": {},
   "outputs": [],
   "source": [
    "x = float(input())\n",
    "mcm = x*2.54\n",
    "    \n",
    "print(f'{x:.2f} inch =>  {mcm} cm')"
   ]
  },
  {
   "cell_type": "code",
   "execution_count": null,
   "metadata": {},
   "outputs": [],
   "source": [
    "x = float(input())\n",
    "mcm = x*2.2046\n",
    "    \n",
    "print(f'{x:.2f} kg =>  {mcm:.2f} lb')"
   ]
  },
  {
   "cell_type": "code",
   "execution_count": null,
   "metadata": {},
   "outputs": [],
   "source": [
    "90.00 kg =>  198.41 lb\n",
    "90.00 kg =>  198.41 lb"
   ]
  },
  {
   "cell_type": "code",
   "execution_count": null,
   "metadata": {},
   "outputs": [],
   "source": [
    "x = float(input())\n",
    "y = 9/5\n",
    "mcm = x*y\n",
    "mcf = mcm + 32\n",
    "    \n",
    "print(f'{x:.2f} ℃ =>  {mcf:.2f} ℉')"
   ]
  },
  {
   "cell_type": "code",
   "execution_count": null,
   "metadata": {},
   "outputs": [],
   "source": [
    "28.00 ℃ =>  82.40 ℉"
   ]
  },
  {
   "cell_type": "code",
   "execution_count": null,
   "metadata": {},
   "outputs": [],
   "source": [
    "x = float(input())\n",
    "y = 5/9\n",
    "mcm = x - 32\n",
    "mcf = mcm * y\n",
    "    \n",
    "print(f'{x:.2f} ℉ =>  {mcf:.2f} ℃')"
   ]
  },
  {
   "cell_type": "code",
   "execution_count": null,
   "metadata": {},
   "outputs": [],
   "source": [
    "20% 농도의 소금물 100g과 물 200g을 혼합한 소금물의 농도(%)를 소수점 두 번째 자리까지 구하는 프로그램을 작성하십시오."
   ]
  },
  {
   "cell_type": "code",
   "execution_count": null,
   "metadata": {},
   "outputs": [],
   "source": [
    "x = 20*100/300\n",
    "print(f'혼합된 소금물의 농도: {x:.2f}%')"
   ]
  },
  {
   "cell_type": "code",
   "execution_count": null,
   "metadata": {},
   "outputs": [],
   "source": [
    "혼합된 소금물의 농도: 6.67%\n",
    "    소금물 공식\n",
    "소금의 양 = 소금물 농도/100x소금물의 양\n",
    "소금물의 농도 = 소금의 양 x100 /소금물의 양\n",
    "20/100*100=소금의 양 20\n",
    "농도 = 20 x 100 / 300"
   ]
  },
  {
   "cell_type": "code",
   "execution_count": null,
   "metadata": {},
   "outputs": [],
   "source": [
    "score = 80\n",
    "if score >= 60:\n",
    "    print(\"%d 점\" % score)\n",
    "    print(\"합격입니다\")"
   ]
  },
  {
   "cell_type": "code",
   "execution_count": null,
   "metadata": {},
   "outputs": [],
   "source": [
    "#6218.\n",
    "다음의 결과와 같이 임의의 양의 정수를 입력받아 그 정수의 모든 약수를 구하십시오\n",
    "\n",
    "입력\n",
    "9\n",
    "\n",
    "출력\n",
    "1(은)는 9의 약수입니다.\n",
    "\n",
    "3(은)는 9의 약수입니다.\n",
    "\n",
    "9(은)는 9의 약수입니다."
   ]
  },
  {
   "cell_type": "code",
   "execution_count": null,
   "metadata": {},
   "outputs": [],
   "source": [
    "x = int(input())\n",
    "for i in range(1,x+1):\n",
    "    if x % i == 0:\n",
    "        print(f\"{i}(은)는 {x}의 약수입니다.\")\n"
   ]
  },
  {
   "cell_type": "code",
   "execution_count": null,
   "metadata": {},
   "outputs": [],
   "source": [
    "1(은)는 9의 약수입니다.\n",
    "1(은)는 9의 약수입니다."
   ]
  },
  {
   "cell_type": "code",
   "execution_count": null,
   "metadata": {},
   "outputs": [],
   "source": [
    "#뒤에서 부터\n",
    "x = int(input())\n",
    "for i in range(x,0,-1):\n",
    "    if x % i == 0:\n",
    "        print(f\"{i}(은)는 {x}의 약수입니다.\")\n"
   ]
  },
  {
   "cell_type": "code",
   "execution_count": null,
   "metadata": {},
   "outputs": [],
   "source": [
    "#6219\n",
    "다음의 결과와 같이 임의의 양의 정수를 입력받아 그 정수의 모든 약수를 구하십시오\n",
    "(단, 약수가 2개일 경우 소수임을 나타내십시오)\n",
    " \n",
    "입력\n",
    "5\n",
    "\n",
    "출력\n",
    "1(은)는 5의 약수입니다.\n",
    "\n",
    "5(은)는 5의 약수입니다.\n",
    "\n",
    "5(은)는 1과 5로만 나눌 수 있는 소수입니다."
   ]
  },
  {
   "cell_type": "code",
   "execution_count": 2,
   "metadata": {},
   "outputs": [
    {
     "name": "stdout",
     "output_type": "stream",
     "text": [
      "5\n",
      "1(은)는 5의 약수입니다.\n",
      "5(은)는 5의 약수입니다.\n",
      "5(은)는 1과 5로만 나눌 수 있는 소수입니다.\n"
     ]
    }
   ],
   "source": [
    "x = int(input())\n",
    "lst = []\n",
    "for i in range(1,x+1):\n",
    "    if x % i == 0:\n",
    "        print(f\"{i}(은)는 {x}의 약수입니다.\")\n",
    "        lst.append(i)\n",
    "if len(lst) == 2:\n",
    "    print(f\"{x}(은)는 {lst[0]}과 {lst[1]}로만 나눌 수 있는 소수입니다.\")\n"
   ]
  },
  {
   "cell_type": "code",
   "execution_count": null,
   "metadata": {},
   "outputs": [],
   "source": [
    "#6220\n",
    "다음의 결과와 같이 입력된 영어 알파벳 문자에 대해 대소문자를 구분하는 코드를 작성하십시오.\n",
    "\n",
    "입력\n",
    "b\n",
    "\n",
    "출력\n",
    "b 는 소문자 입니다."
   ]
  },
  {
   "cell_type": "code",
   "execution_count": 7,
   "metadata": {},
   "outputs": [
    {
     "name": "stdout",
     "output_type": "stream",
     "text": [
      "A\n",
      "A는 대문자 입니다.\n"
     ]
    }
   ],
   "source": [
    "x = input()\n",
    "b = x.upper()\n",
    "if b == x:\n",
    "    print(f\"{x} 는 대문자 입니다.\")\n",
    "else:\n",
    "    print(f\"{x} 는 소문자 입니다.\")"
   ]
  },
  {
   "cell_type": "code",
   "execution_count": null,
   "metadata": {},
   "outputs": [],
   "source": [
    "#6221\n",
    "다음의 결과와 같이 가상의 두 사람이 가위 바위 보 중 하나를 내서 승패를 가르는 가위 바위 보 게임을 작성하십시오.\n",
    "\n",
    "이 때 [\"가위\", \"바위\", \"보\"] 리스트를 활용합니다.\n",
    "\n",
    "입력\n",
    "바위\n",
    "가위\n",
    "\n",
    "출력\n",
    "Result : Man1 Win!"
   ]
  },
  {
   "cell_type": "code",
   "execution_count": 11,
   "metadata": {},
   "outputs": [
    {
     "name": "stdout",
     "output_type": "stream",
     "text": [
      "바위\n",
      "가위\n",
      "Man1 Win!\n"
     ]
    }
   ],
   "source": [
    "x = input()\n",
    "y = input()\n",
    "a = \"가위\"\n",
    "b = \"바위\"\n",
    "c = \"보\"\n",
    "a > c\n",
    "a < b\n",
    "c > b\n",
    "if x == y:\n",
    "    print(\"Drow!\")\n",
    "if x > y:\n",
    "    print(\"Result : Man1 Win!\")\n",
    "if y > x:\n",
    "    print(\"Result : Man2 Win!\")\n",
    "    "
   ]
  },
  {
   "cell_type": "code",
   "execution_count": null,
   "metadata": {},
   "outputs": [],
   "source": [
    "#6222\n",
    "다음의 결과와 같이 입력된 문자가 대문자일 경우 소문자로, 소문자일 경우 대문자로 변경하고,\n",
    "\n",
    "알파벳이 아닐 경우엔 그냥 출력하는 코드를 작성하십시오.\n",
    "\n",
    "출력 시 아스키코드를 함께 출력합니다.\n",
    "\n",
    "입력\n",
    "c\n",
    "\n",
    "출력\n",
    "c(ASCII: 99) => C(ASCII: 67)"
   ]
  },
  {
   "cell_type": "code",
   "execution_count": null,
   "metadata": {},
   "outputs": [],
   "source": [
    "문자를 \"아스키 코드 번호\"로 변환하려면 ord() 함수를 사용합니다. \n",
    "출력 결과를 10진수 숫자가 아닌 \"16진수 문자열\"로 출력하려면 hex() 함수를 사용합니다. "
   ]
  },
  {
   "cell_type": "code",
   "execution_count": 5,
   "metadata": {},
   "outputs": [
    {
     "name": "stdout",
     "output_type": "stream",
     "text": [
      "50\n",
      "50\n"
     ]
    }
   ],
   "source": [
    "x = input()\n",
    "if  x.isalpha():\n",
    "    if x == x.upper():\n",
    "        print(f\"{x}(ASCII: {ord(x)}) => {x.lower()}(ASCII: {ord(x.lower())})\")\n",
    "    elif x != x.upper():\n",
    "        print(f\"{x}(ASCII: {ord(x)}) => {x.upper()}(ASCII: {ord(x.upper())})\")\n",
    "else:\n",
    "    print(x)"
   ]
  },
  {
   "cell_type": "code",
   "execution_count": null,
   "metadata": {},
   "outputs": [],
   "source": [
    "x = input()\n",
    "if  str.split(x):\n",
    "    print(f\"{x}(ASCII: {ord(x)})\")\n",
    "else:\n",
    "    print(x)"
   ]
  },
  {
   "cell_type": "code",
   "execution_count": null,
   "metadata": {},
   "outputs": [],
   "source": [
    "#6226\n",
    "1~200 사이의 정수 가운데 7의 배수이면서 5의 배수는 아닌 모든 숫자들을 찾아\n",
    "\n",
    "콤마(,)로 구분된 문자열을 구성해 출력하는 프로그램을 작성하십시오.\n",
    "\n",
    "입력\n",
    "\n",
    "출력\n",
    "7,14,21,28,42,49,56,63,77,84,91,98,112,119,126,133,147,154,161,168,182,189,196"
   ]
  },
  {
   "cell_type": "code",
   "execution_count": 20,
   "metadata": {},
   "outputs": [
    {
     "name": "stdout",
     "output_type": "stream",
     "text": [
      "7,14,21,28,42,49,56,63,77,84,91,98,112,119,126,133,147,154,161,168,182,189,196\n"
     ]
    }
   ],
   "source": [
    "t =[]\n",
    "for i in range(1,200):\n",
    "    if i % 7 == 0:\n",
    "        if i % 5 != 0:\n",
    "            t.append(str(i))\n",
    "print(','.join(t))\n",
    "    "
   ]
  },
  {
   "cell_type": "code",
   "execution_count": 1,
   "metadata": {},
   "outputs": [
    {
     "ename": "SyntaxError",
     "evalue": "invalid syntax (<ipython-input-1-01d2fd51d58c>, line 2)",
     "output_type": "error",
     "traceback": [
      "\u001b[1;36m  File \u001b[1;32m\"<ipython-input-1-01d2fd51d58c>\"\u001b[1;36m, line \u001b[1;32m2\u001b[0m\n\u001b[1;33m    100~300 사이의 숫자에서 각각의 자리 숫자가 짝수인 숫자를 찾아 콤마(,)로 구분해 출력하는 프로그램을 작성하십시오.\u001b[0m\n\u001b[1;37m       ^\u001b[0m\n\u001b[1;31mSyntaxError\u001b[0m\u001b[1;31m:\u001b[0m invalid syntax\n"
     ]
    }
   ],
   "source": [
    "#6227\n",
    "100~300 사이의 숫자에서 각각의 자리 숫자가 짝수인 숫자를 찾아 콤마(,)로 구분해 출력하는 프로그램을 작성하십시오.\n",
    "\n",
    "입력\n",
    "\n",
    "출력\n",
    "200,202,204,206,208,220,222,224,226,228,240,242,244,246,248,260,262,264,266,268,280,282,284,286,288"
   ]
  },
  {
   "cell_type": "code",
   "execution_count": 2,
   "metadata": {},
   "outputs": [
    {
     "name": "stdout",
     "output_type": "stream",
     "text": [
      "200,202,204,206,208,220,222,224,226,228,240,242,244,246,248,260,262,264,266,268,280,282,284,286,288\n"
     ]
    }
   ],
   "source": [
    "t =[]\n",
    "for i in range(100,301):\n",
    "    a=str(i)\n",
    "    b=int(a[0])%2\n",
    "    c=int(a[1])%2\n",
    "    d=int(a[2])%2\n",
    "    if b+c+d%2==0:\n",
    "        t.append(str(i))\n",
    "print(','.join(t))"
   ]
  },
  {
   "cell_type": "code",
   "execution_count": null,
   "metadata": {},
   "outputs": [],
   "source": [
    "다음의 결과와 같이 5명의 학생의 점수에 대해 60 이상일 때 합격 메시지를 출력하고,\n",
    "\n",
    "60미만일 때 불합격 메시지를 출력하는 프로그램을 만드십시오.\n",
    "\n",
    "입력\n",
    "\n",
    "출력\n",
    "1번 학생은 88점으로 합격입니다.\n",
    "\n",
    "2번 학생은 30점으로 불합격입니다.\n",
    "\n",
    "3번 학생은 61점으로 합격입니다.\n",
    "\n",
    "4번 학생은 55점으로 불합격입니다.\n",
    "\n",
    "5번 학생은 95점으로 합격입니다.\n"
   ]
  },
  {
   "cell_type": "code",
   "execution_count": null,
   "metadata": {},
   "outputs": [],
   "source": [
    "s = '1번', '2번', '3번', '4번', '5번'\n",
    "for i in s\n",
    "'1번' = 88\n",
    "'2번' = 30\n",
    "'3번' = 61\n",
    "'4번' = 55\n",
    "'5번' = 95\n",
    "print(f\"{} 학생은 {}점으로 {}입니다.\")"
   ]
  },
  {
   "cell_type": "code",
   "execution_count": null,
   "metadata": {},
   "outputs": [],
   "source": []
  },
  {
   "cell_type": "code",
   "execution_count": null,
   "metadata": {},
   "outputs": [],
   "source": []
  }
 ],
 "metadata": {
  "kernelspec": {
   "display_name": "Python 3",
   "language": "python",
   "name": "python3"
  },
  "language_info": {
   "codemirror_mode": {
    "name": "ipython",
    "version": 3
   },
   "file_extension": ".py",
   "mimetype": "text/x-python",
   "name": "python",
   "nbconvert_exporter": "python",
   "pygments_lexer": "ipython3",
   "version": "3.7.1"
  }
 },
 "nbformat": 4,
 "nbformat_minor": 2
}
